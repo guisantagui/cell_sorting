{
 "cells": [
  {
   "cell_type": "code",
   "execution_count": 1,
   "id": "5e6b87a9-df57-4160-ac80-94fb822e659a",
   "metadata": {},
   "outputs": [],
   "source": [
    "import phate"
   ]
  }
 ],
 "metadata": {
  "kernelspec": {
   "display_name": "Python 3 (ipykernel)",
   "language": "python",
   "name": "python3"
  },
  "language_info": {
   "codemirror_mode": {
    "name": "ipython",
    "version": 3
   },
   "file_extension": ".py",
   "mimetype": "text/x-python",
   "name": "python",
   "nbconvert_exporter": "python",
   "pygments_lexer": "ipython3",
   "version": "3.12.0"
  }
 },
 "nbformat": 4,
 "nbformat_minor": 5
}
